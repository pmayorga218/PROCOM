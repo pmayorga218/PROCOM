{
  "nbformat": 4,
  "nbformat_minor": 0,
  "metadata": {
    "colab": {
      "name": "Ejercicio clase 1",
      "provenance": []
    },
    "kernelspec": {
      "name": "python3",
      "display_name": "Python 3"
    },
    "language_info": {
      "name": "python"
    }
  },
  "cells": [
    {
      "cell_type": "markdown",
      "source": [
        "\n",
        "#Ejercicio 1\n",
        "\n"
      ],
      "metadata": {
        "id": "ZBxKRl2qlJCy"
      }
    },
    {
      "cell_type": "code",
      "execution_count": 9,
      "metadata": {
        "id": "YjPg8Z02jWeK",
        "colab": {
          "base_uri": "https://localhost:8080/"
        },
        "outputId": "d526b07a-965a-4980-a582-2e0e88500c5a"
      },
      "outputs": [
        {
          "output_type": "stream",
          "name": "stdout",
          "text": [
            "Ingresa un número entero 7\n",
            "Ingresa otro número entero 2\n",
            "División exacta, el residuo es 1 \n"
          ]
        }
      ],
      "source": [
        "x=int(input(\"Ingresa un número entero \"))\n",
        "y=int(input(\"Ingresa otro número entero \"))\n",
        "\n",
        "if y == 0:\n",
        "  print(\"No se puede dividir entre cero, ingresa otro número\")\n",
        "x / y \n",
        "if x % y == 0 :\n",
        "  print(\"División exacta\")\n",
        "else :\n",
        "  print(f\"División exacta, el residuo es {x % y} \")\n"
      ]
    },
    {
      "cell_type": "markdown",
      "source": [
        "#Ejercicio 2"
      ],
      "metadata": {
        "id": "EUaQ2ZFPlIFb"
      }
    },
    {
      "cell_type": "code",
      "source": [
        "x=int(input(\"Ingresa un número \"))\n",
        "y=int(input(\"Ingresa otro número \"))\n",
        "if x % y == 0 :\n",
        "  print(\"Los números son múltiplos\")\n",
        "else:\n",
        "  print(\"Los números no son múltiplos\")\n"
      ],
      "metadata": {
        "colab": {
          "base_uri": "https://localhost:8080/"
        },
        "id": "JA9Cto70snDx",
        "outputId": "ea61d036-0063-452b-8b0e-120dc75041c8"
      },
      "execution_count": 17,
      "outputs": [
        {
          "output_type": "stream",
          "name": "stdout",
          "text": [
            "Ingresa un número 2\n",
            "Ingresa otro número 2\n",
            "Los números son múltiplos\n"
          ]
        }
      ]
    },
    {
      "cell_type": "markdown",
      "source": [
        "#Ejercicio 3"
      ],
      "metadata": {
        "id": "X3oPwb5ltgrq"
      }
    },
    {
      "cell_type": "code",
      "source": [
        "x=int(input(\"Ingresa una edad\"))\n",
        "y=int(input(\"Ingresa otra edad \"))\n",
        "z=int(input(\"Ingresa la última edad \"))\n",
        "if x<y and x<z and y<z:\n",
        "  print(f\"Las edades ordenadas de menor a mayor son {x}, {y}, {z}\")\n",
        "elif y<x and y<z and x<z:\n",
        "  print(f\"Las edades ordenadas de menor a mayor son {y}, {x}, {z}\")\n",
        "else :\n",
        "  print(f\"Las edades ordenadas de menor a mayor son {z}, {x}, {y}\")\n",
        "  "
      ],
      "metadata": {
        "colab": {
          "base_uri": "https://localhost:8080/"
        },
        "id": "EceIy45wti1D",
        "outputId": "d64414f1-ba55-4042-c289-9431426e2b25"
      },
      "execution_count": 13,
      "outputs": [
        {
          "output_type": "stream",
          "name": "stdout",
          "text": [
            "Ingresa una edad1\n",
            "Ingresa otra edad 2\n",
            "Ingresa la última edad 3\n",
            "Las edades ordenadas de menor a mayor son 1, 2, 3\n"
          ]
        }
      ]
    },
    {
      "cell_type": "markdown",
      "source": [
        "#Ejercicio 4"
      ],
      "metadata": {
        "id": "X_jQDnsQwodi"
      }
    },
    {
      "cell_type": "code",
      "source": [
        ""
      ],
      "metadata": {
        "id": "FknI-783wqXS"
      },
      "execution_count": null,
      "outputs": []
    },
    {
      "cell_type": "markdown",
      "source": [
        "#Ejercicio 6"
      ],
      "metadata": {
        "id": "x60R4HVUwqnK"
      }
    },
    {
      "cell_type": "code",
      "source": [
        "x=float(input(\"Ingresa una nota \"))\n",
        "y=float(input(\"Ingresa una nota \"))\n",
        "z=float(input(\"Ingresa una nota \"))\n",
        "m=float(input(\"Ingresa una nota \"))\n",
        "(x+y+z+m)/4\n",
        "if (x+y+z+m)/4 > 4.5 :\n",
        "  print(\"Estás eximido del examen\")\n",
        "elif (x+y+z+m)/4 > 3.5 and (x+y+z+m)/4 < 4.5:\n",
        "  print(\"Debes presentar el examen\")\n",
        "elif (x+y+z+m)/4 > 3 and (x+y+z+m)/4 < 3.5:\n",
        "  print(\"Adicional al examen, debes presentar un trabajo\")\n",
        "elif (x+y+z+m)/4 > 2 and (x+y+z+m)/4 < 3:\n",
        "  print(\"Debes habilitar\")\n",
        "else:\n",
        "  print(\"Perdiste la materia irremediablemente\")"
      ],
      "metadata": {
        "colab": {
          "base_uri": "https://localhost:8080/"
        },
        "id": "4C3jdPxIwuES",
        "outputId": "68b436bf-7518-4d07-c59f-ac9383b938dc"
      },
      "execution_count": 25,
      "outputs": [
        {
          "output_type": "stream",
          "name": "stdout",
          "text": [
            "Ingresa una nota 4\n",
            "Ingresa una nota 4\n",
            "Ingresa una nota 4\n",
            "Ingresa una nota 4\n",
            "Debes presentar el examen\n"
          ]
        }
      ]
    }
  ]
}