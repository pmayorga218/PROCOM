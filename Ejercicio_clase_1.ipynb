{
  "nbformat": 4,
  "nbformat_minor": 0,
  "metadata": {
    "colab": {
      "name": "Ejercicio_clase_1.ipynb",
      "provenance": [],
      "collapsed_sections": []
    },
    "kernelspec": {
      "name": "python3",
      "display_name": "Python 3"
    },
    "language_info": {
      "name": "python"
    }
  },
  "cells": [
    {
      "cell_type": "markdown",
      "source": [
        "\n",
        "#Ejercicio 1\n",
        "\n"
      ],
      "metadata": {
        "id": "ZBxKRl2qlJCy"
      }
    },
    {
      "cell_type": "code",
      "execution_count": null,
      "metadata": {
        "id": "YjPg8Z02jWeK",
        "colab": {
          "base_uri": "https://localhost:8080/"
        },
        "outputId": "d526b07a-965a-4980-a582-2e0e88500c5a"
      },
      "outputs": [
        {
          "output_type": "stream",
          "name": "stdout",
          "text": [
            "Ingresa un número entero 7\n",
            "Ingresa otro número entero 2\n",
            "División exacta, el residuo es 1 \n"
          ]
        }
      ],
      "source": [
        "x=int(input(\"Ingresa un número entero \"))\n",
        "y=int(input(\"Ingresa otro número entero \"))\n",
        "\n",
        "if y == 0:\n",
        "  print(\"No se puede dividir entre cero, ingresa otro número\")\n",
        "x / y \n",
        "if x % y == 0 :\n",
        "  print(\"División exacta\")\n",
        "else :\n",
        "  print(f\"División exacta, el residuo es {x % y} \")\n"
      ]
    },
    {
      "cell_type": "markdown",
      "source": [
        "#Ejercicio 2"
      ],
      "metadata": {
        "id": "EUaQ2ZFPlIFb"
      }
    },
    {
      "cell_type": "code",
      "source": [
        "x=int(input(\"Ingresa un número \"))\n",
        "y=int(input(\"Ingresa otro número \"))\n",
        "if x % y == 0 :\n",
        "  print(\"Los números son múltiplos\")\n",
        "else:\n",
        "  print(\"Los números no son múltiplos\")\n"
      ],
      "metadata": {
        "colab": {
          "base_uri": "https://localhost:8080/"
        },
        "id": "JA9Cto70snDx",
        "outputId": "ea61d036-0063-452b-8b0e-120dc75041c8"
      },
      "execution_count": null,
      "outputs": [
        {
          "output_type": "stream",
          "name": "stdout",
          "text": [
            "Ingresa un número 2\n",
            "Ingresa otro número 2\n",
            "Los números son múltiplos\n"
          ]
        }
      ]
    },
    {
      "cell_type": "markdown",
      "source": [
        "#Ejercicio 3"
      ],
      "metadata": {
        "id": "X3oPwb5ltgrq"
      }
    },
    {
      "cell_type": "code",
      "source": [
        "x=int(input(\"Ingresa una edad\"))\n",
        "y=int(input(\"Ingresa otra edad \"))\n",
        "z=int(input(\"Ingresa la última edad \"))\n",
        "if x<y and x<z and y<z:\n",
        "  print(f\"Las edades ordenadas de menor a mayor son {x}, {y}, {z}\")\n",
        "elif y<x and y<z and x<z:\n",
        "  print(f\"Las edades ordenadas de menor a mayor son {y}, {x}, {z}\")\n",
        "else :\n",
        "  print(f\"Las edades ordenadas de menor a mayor son {z}, {x}, {y}\")\n",
        "  "
      ],
      "metadata": {
        "colab": {
          "base_uri": "https://localhost:8080/"
        },
        "id": "EceIy45wti1D",
        "outputId": "d64414f1-ba55-4042-c289-9431426e2b25"
      },
      "execution_count": null,
      "outputs": [
        {
          "output_type": "stream",
          "name": "stdout",
          "text": [
            "Ingresa una edad1\n",
            "Ingresa otra edad 2\n",
            "Ingresa la última edad 3\n",
            "Las edades ordenadas de menor a mayor son 1, 2, 3\n"
          ]
        }
      ]
    },
    {
      "cell_type": "markdown",
      "source": [
        "#Ejercicio 4"
      ],
      "metadata": {
        "id": "X_jQDnsQwodi"
      }
    },
    {
      "cell_type": "code",
      "source": [
        "i=int(input(\"Ingresa tu salario mensual \"))\n",
        "if i >=3600000:\n",
        "  print(\"Debes pagar impuesto de renta\")\n",
        "else:\n",
        "  print(\"No debes pagar impuesto de renta\")"
      ],
      "metadata": {
        "id": "FknI-783wqXS",
        "colab": {
          "base_uri": "https://localhost:8080/"
        },
        "outputId": "c9addfa0-ea98-4d11-bb2a-5057c51593c7"
      },
      "execution_count": 12,
      "outputs": [
        {
          "output_type": "stream",
          "name": "stdout",
          "text": [
            "Ingresa tu salario mensual1500000\n",
            "No debes pagar impuesto de renta\n"
          ]
        }
      ]
    },
    {
      "cell_type": "markdown",
      "source": [
        "#Ejercicio 6"
      ],
      "metadata": {
        "id": "x60R4HVUwqnK"
      }
    },
    {
      "cell_type": "code",
      "source": [
        "x=float(input(\"Ingresa una nota \"))\n",
        "y=float(input(\"Ingresa una nota \"))\n",
        "z=float(input(\"Ingresa una nota \"))\n",
        "m=float(input(\"Ingresa una nota \"))\n",
        "(x+y+z+m)/4\n",
        "if (x+y+z+m)/4 > 4.5 :\n",
        "  print(\"Estás eximido del examen\")\n",
        "elif (x+y+z+m)/4 > 3.5 and (x+y+z+m)/4 < 4.5:\n",
        "  print(\"Debes presentar el examen\")\n",
        "elif (x+y+z+m)/4 > 3 and (x+y+z+m)/4 < 3.5:\n",
        "  print(\"Adicional al examen, debes presentar un trabajo\")\n",
        "elif (x+y+z+m)/4 > 2 and (x+y+z+m)/4 < 3:\n",
        "  print(\"Debes habilitar\")\n",
        "else:\n",
        "  print(\"Perdiste la materia irremediablemente\")"
      ],
      "metadata": {
        "colab": {
          "base_uri": "https://localhost:8080/"
        },
        "id": "4C3jdPxIwuES",
        "outputId": "68b436bf-7518-4d07-c59f-ac9383b938dc"
      },
      "execution_count": null,
      "outputs": [
        {
          "output_type": "stream",
          "name": "stdout",
          "text": [
            "Ingresa una nota 4\n",
            "Ingresa una nota 4\n",
            "Ingresa una nota 4\n",
            "Ingresa una nota 4\n",
            "Debes presentar el examen\n"
          ]
        }
      ]
    },
    {
      "cell_type": "markdown",
      "source": [
        "#Ejercicio 7"
      ],
      "metadata": {
        "id": "tsj0XzCflnd-"
      }
    },
    {
      "cell_type": "code",
      "source": [
        "x=int(input(\"Ingresa tu año de nacimiento \"))\n",
        "a = 2022\n",
        "int(a)\n",
        "a = 2022\n",
        "print(f\"Tienes {a-x} años\")\n"
      ],
      "metadata": {
        "id": "0RNWGsGUloI9",
        "colab": {
          "base_uri": "https://localhost:8080/"
        },
        "outputId": "6786aa6e-1227-473d-c2ba-38f2e8d28adc"
      },
      "execution_count": null,
      "outputs": [
        {
          "output_type": "stream",
          "name": "stdout",
          "text": [
            "Ingresa tu año de nacimiento2003\n",
            "Tienes 19 años\n"
          ]
        }
      ]
    },
    {
      "cell_type": "markdown",
      "source": [
        "#Ejercicio 8"
      ],
      "metadata": {
        "id": "cBZIDrjvUGuS"
      }
    },
    {
      "cell_type": "code",
      "source": [
        "x=int(input(\"Ingresa un año \"))\n",
        "if x % 4 == 0 and x % 100 != 0:\n",
        "  print(\"El año es bisiesto\")\n",
        "else:\n",
        "  print(\"El año no es bisiesto\")\n"
      ],
      "metadata": {
        "colab": {
          "base_uri": "https://localhost:8080/"
        },
        "id": "Vvn3k2AZUIqi",
        "outputId": "b01ad69f-ebde-46cc-ef76-b507e442a688"
      },
      "execution_count": null,
      "outputs": [
        {
          "output_type": "stream",
          "name": "stdout",
          "text": [
            "Ingresa un año 2004\n",
            "El año es bisiesto\n"
          ]
        }
      ]
    },
    {
      "cell_type": "markdown",
      "source": [
        "#Ejercicio 9"
      ],
      "metadata": {
        "id": "7Ogdf69LWGHR"
      }
    },
    {
      "cell_type": "code",
      "source": [
        "a=float(input(\"Ingresa coeficiente a para ax + b = 0 \"))\n",
        "b=float(input(\"Ingresa coeficiente b para ax + b = 0 \"))\n",
        "x = -b / a\n",
        "float(x)\n",
        "print(f\"x = {x} y la ecuación final es {a}x + {b} = 0\")"
      ],
      "metadata": {
        "colab": {
          "base_uri": "https://localhost:8080/"
        },
        "id": "gNYRIOxxWIjR",
        "outputId": "c4c527a9-3bb6-4e6c-9af3-3fcd080cbe65"
      },
      "execution_count": null,
      "outputs": [
        {
          "output_type": "stream",
          "name": "stdout",
          "text": [
            "Ingresa coeficiente a para ax + b = 02\n",
            "Ingresa coeficiente b para ax + b = 012\n",
            "x = -6.0 y la ecuación final es 2x + 12 = 0\n"
          ]
        }
      ]
    },
    {
      "cell_type": "markdown",
      "source": [
        "#Ejercicio 10"
      ],
      "metadata": {
        "id": "sgr9XHdR4L8p"
      }
    },
    {
      "cell_type": "code",
      "source": [
        "a=float(input(\"Ingresa a para ax + b = c \"))\n",
        "b=float(input(\"Ingresa b \"))\n",
        "c=float(input(\"Ingresa c \"))\n",
        "m = -a/b-c\n",
        "float(m)\n",
        "print(f\"La pendiene de la recta {a}x + {b} = {c}, es {m}\")"
      ],
      "metadata": {
        "id": "s8oNYSbi4N8-",
        "colab": {
          "base_uri": "https://localhost:8080/"
        },
        "outputId": "326d7e84-bcfc-4e2a-dcb6-a15d90037442"
      },
      "execution_count": null,
      "outputs": [
        {
          "output_type": "stream",
          "name": "stdout",
          "text": [
            "Ingresa a para ax + b = c 12\n",
            "Ingresa b 6\n",
            "Ingresa c 2\n",
            "La pendiene de la recta 12.0x + 6.0 = 2.0, es -4.0\n"
          ]
        }
      ]
    },
    {
      "cell_type": "markdown",
      "source": [
        "#Ejercicio 11"
      ],
      "metadata": {
        "id": "JDqhNojAUlvR"
      }
    },
    {
      "cell_type": "code",
      "source": [
        "a=float(input(\"Ingresa a para ax**2 + bx + c = 0 \"))\n",
        "b=float(input(\"Ingresa b \"))\n",
        "c=float(input(\"Ingresa c \"))\n",
        "x1 = (-b + (b**2-(4*a*c)**0.5))/2*a\n",
        "x2 = (-b - (b**2-(4*a*c)**0.5))/2*a\n",
        "float(x1)\n",
        "float(x2)\n",
        "print(f\"x para {a}x**2 + {b}x + {c} = 0, son x1 = {x1} y x2 = {x2}\")"
      ],
      "metadata": {
        "colab": {
          "base_uri": "https://localhost:8080/"
        },
        "id": "dHzbZEaVUorZ",
        "outputId": "9da89fed-676d-43f8-ea59-f922e1805cb9"
      },
      "execution_count": null,
      "outputs": [
        {
          "output_type": "stream",
          "name": "stdout",
          "text": [
            "Ingresa a para ax**2 + bx + c = 0 2\n",
            "Ingresa b 2\n",
            "Ingresa c 2\n",
            "x para 2.0x**2 + 2.0x + 2.0 = 0, son x1 = -2.0 y x2 = -2.0\n"
          ]
        }
      ]
    },
    {
      "cell_type": "markdown",
      "source": [
        "#Ejercicio 12"
      ],
      "metadata": {
        "id": "fRiWgIFPzCUp"
      }
    },
    {
      "cell_type": "code",
      "source": [
        "o=str(input(\"Escoge qué operación quieres hacer a.Suma, b.Resta, c.Multiplicación, d.Divisón\"))\n",
        "from random import randrange\n",
        "n1 = randrange(0,10)\n",
        "n2 = randrange(0,10)\n",
        "int(n1)\n",
        "int(n2)\n",
        "if o == \"a\":\n",
        "  r=int(input(f\"Escribe la respuesta de {n1} + {n2}\"))\n",
        "  if r == n1 + n2:\n",
        "    print(f\"Acertaste, la respuesta es {r}\")\n",
        "  else :\n",
        "    print(f\"No acertaste, la respuesta era {n1 + n2}\")\n",
        "elif o == \"b\":\n",
        "  r=int(input(f\"Escribe la respuesta de {n1} - {n2}\"))\n",
        "  if r == n1 - n2:\n",
        "    print(f\"Acertaste, la respuesta es {r}\")\n",
        "  else :\n",
        "    print(f\"No acertaste, la respuesta era {n1 - n2}\")\n",
        "elif o == \"c\":\n",
        "  r=int(input(f\"Escribe la respuesta de {n1} * {n2}\"))\n",
        "  if r == n1 * n2:\n",
        "    print(f\"Acertaste, la respuesta es {r}\")\n",
        "  else :\n",
        "    print(f\"No acertaste, la respuesta era {n1 * n2}\")\n",
        "elif o == \"d\":\n",
        "  r=int(input(f\"Escribe la respuesta de {n1} / {n2}\"))\n",
        "  if r == n1 / n2:\n",
        "    print(f\"Acertaste, la respuesta es {r}\")\n",
        "  else :\n",
        "    print(f\"No acertaste, la respuesta era {n1 / n2}\")\n"
      ],
      "metadata": {
        "id": "PkFP2lZyzE0Z",
        "colab": {
          "base_uri": "https://localhost:8080/"
        },
        "outputId": "c4387787-d09c-4d29-fb7f-fa134113ec79"
      },
      "execution_count": 4,
      "outputs": [
        {
          "output_type": "stream",
          "name": "stdout",
          "text": [
            "Escoge qué operación quieres hacer a.Suma, b.Resta, c.Multiplicación, d.Divisóna\n",
            "Escribe la respuesta de 7 + 714\n",
            "Acertaste, la respuesta es 14\n"
          ]
        }
      ]
    },
    {
      "cell_type": "markdown",
      "source": [
        "#Ejercicio 13"
      ],
      "metadata": {
        "id": "Xca7c_uX50O8"
      }
    },
    {
      "cell_type": "code",
      "source": [
        "c=int(input(\"Ingresa qué quieres convertir 1.cm a m 2.cm a km 3.m a km 4.km a cm 5.km a m\"))\n",
        "m=float(input(\"Ingresa la cantidad \"))\n",
        "if c == 1:\n",
        "  m/100\n",
        "  print(f\"{m}cm son {m/100}m\")\n",
        "elif c == 2:\n",
        "  m/100000\n",
        "  print(f\"{m}cm son {m/100000}m\")\n",
        "elif c == 3:\n",
        "  m/1000\n",
        "  print(f\"{m}m son {m/1000}km\")\n",
        "elif c == 4:\n",
        "  m/100000\n",
        "  print(f\"{m}km son {m/100000}cm\")\n",
        "elif c == 5:\n",
        "  m/1000\n",
        "  print(f\"{m}km son {m/1000}m\")\n",
        "else :\n",
        "  print(\"Elige una opción válida\")"
      ],
      "metadata": {
        "colab": {
          "base_uri": "https://localhost:8080/"
        },
        "id": "yX654Te852oN",
        "outputId": "3ded10c4-47e0-4f85-db94-8a96e7a80180"
      },
      "execution_count": null,
      "outputs": [
        {
          "output_type": "stream",
          "name": "stdout",
          "text": [
            "Ingresa qué quieres convertir 1.cm a m 2.cm a km 3.m a km 4.km a cm 5.km a m1\n",
            "Ingresa la cantidad100\n",
            "100.0cm son 1.0m\n"
          ]
        }
      ]
    },
    {
      "cell_type": "markdown",
      "source": [
        "#Ejercicio 14"
      ],
      "metadata": {
        "id": "6Od02DUu9C5u"
      }
    },
    {
      "cell_type": "code",
      "source": [
        "l=str(input(\"Escribe una letra \"))\n",
        "if l == \"a\" or l == \"e\" or l == \"i\" or l == \"o\" or l == \"u\":\n",
        "  print(f\"La letra {l} es una vocal\")\n",
        "elif l == \"b\" or l == \"c\" or l == \"d\" or l == \"f\" or l == \"g\" or l == \"h\" or l == \"j\" or l == \"k\" or l == \"l\" or l == \"m\" or l == \"n\" or l == \"ñ\" or l == \"o\" or l == \"p\" or l == \"q\" or l == \"r\" or l == \"s\" or l == \"t\" or l == \"v\" or l == \"x\" or l == \"y\" or l == \"z\":\n",
        "  print(f\"La letra {l} es consonante\")\n",
        "else :\n",
        "  print(\"Ingresa una letra válida\")"
      ],
      "metadata": {
        "colab": {
          "base_uri": "https://localhost:8080/"
        },
        "id": "Acwad4FU9FO5",
        "outputId": "68061a2a-940f-490b-bacd-1ab64c911b40"
      },
      "execution_count": null,
      "outputs": [
        {
          "output_type": "stream",
          "name": "stdout",
          "text": [
            "Escribe una letra l1\n",
            "Ingresa una letra válida\n"
          ]
        }
      ]
    },
    {
      "cell_type": "markdown",
      "source": [
        "#Ejercicio 15"
      ],
      "metadata": {
        "id": "uy0Vu3IP_s-s"
      }
    },
    {
      "cell_type": "code",
      "source": [
        "n=int(input(\"Ingresa un número entero para mostrar su valor absoluto \"))\n",
        "va=abs(n)\n",
        "int(va)\n",
        "print(f\"El valor absoluto de {n} es {va}\")"
      ],
      "metadata": {
        "colab": {
          "base_uri": "https://localhost:8080/"
        },
        "id": "4u47gWct_uxJ",
        "outputId": "916fb42a-9a8d-495b-ce3d-bb9a03175159"
      },
      "execution_count": null,
      "outputs": [
        {
          "output_type": "stream",
          "name": "stdout",
          "text": [
            "Ingresa un número entero para mostrar su valor absoluto-12\n",
            "El valor absoluto de -12 es 12\n"
          ]
        }
      ]
    },
    {
      "cell_type": "markdown",
      "source": [
        "#Ejercicio 16"
      ],
      "metadata": {
        "id": "CQZE65-lAOnl"
      }
    },
    {
      "cell_type": "code",
      "source": [
        "user1=str(input(\"Ingresa un nombre de usuario\"))\n",
        "user2=str(input(\"Ingresa otro nombre de usuario\"))\n"
      ],
      "metadata": {
        "id": "KOC5iBKTARQ4"
      },
      "execution_count": null,
      "outputs": []
    },
    {
      "cell_type": "markdown",
      "source": [
        "#Ejercicio 17"
      ],
      "metadata": {
        "id": "S5xMqLowAetS"
      }
    },
    {
      "cell_type": "code",
      "source": [
        "c=str(input(\"Elige un candidato : A. Candidato A por el partido Alfa, B. Candidato B por el partido Beta, C. Candidato C por el partido gamma \"))\n",
        "if c == \"A\":\n",
        "  print(\"Votaste por el candidato A por el partido Alfa\")\n",
        "elif c== \"B\":\n",
        "  print(\"Votaste por el candidato B por el partido Beta\")\n",
        "elif c == \"C\":\n",
        "  print(\"Votaste por el candidato C por el partido Gamma\")\n",
        "else:\n",
        "  print(\"Vota por un candidao válido\")\n"
      ],
      "metadata": {
        "colab": {
          "base_uri": "https://localhost:8080/"
        },
        "id": "K0x0N8M8Ag5f",
        "outputId": "563213a3-9cdd-4072-9259-6b154745a05c"
      },
      "execution_count": null,
      "outputs": [
        {
          "output_type": "stream",
          "name": "stdout",
          "text": [
            "Elige un candidato : A. Candidato A por el partido Alfa, B. Candidato B por el partido Beta, C. Candidato C por el partido gamma A\n",
            "Votaste por el candidato A por el partido Alfa\n"
          ]
        }
      ]
    },
    {
      "cell_type": "markdown",
      "source": [
        "#Ejercicio 18"
      ],
      "metadata": {
        "id": "8Z3MyR0VCal9"
      }
    },
    {
      "cell_type": "code",
      "source": [
        "n=float(input(\"Ingresa un número\"))\n",
        "u = n % 10\n",
        "d = (n % 100 - n % 10) / 10\n",
        "c = (n % 1000 - n % 100) / 100\n",
        "print(f\"Unidades = {u}\")\n",
        "print(f\"Decenas = {d}\")\n",
        "print(f\"Centenas = {c}\")\n"
      ],
      "metadata": {
        "id": "OhIkpj4eCcrs",
        "colab": {
          "base_uri": "https://localhost:8080/"
        },
        "outputId": "5b923602-d286-4b86-e771-1a4f0c82ecc6"
      },
      "execution_count": 1,
      "outputs": [
        {
          "output_type": "stream",
          "name": "stdout",
          "text": [
            "Ingresa un número18255\n",
            "Unidades = 5\n",
            "Decenas = 5.0\n",
            "Centenas = 2.0\n"
          ]
        }
      ]
    },
    {
      "cell_type": "markdown",
      "source": [
        "#Ejercicio 19"
      ],
      "metadata": {
        "id": "_UXuql6pG0Ca"
      }
    },
    {
      "cell_type": "code",
      "source": [
        "p=str(input(\"Ingresa una palabra \"))\n",
        "if str(p) == \"\".join(reversed(p)):\n",
        "  print(f\"La palabra {p} es un palíndromo\")\n",
        "else:\n",
        "  print(f\"La palabra {p} no es un palíndromo\")"
      ],
      "metadata": {
        "colab": {
          "base_uri": "https://localhost:8080/"
        },
        "id": "p7InfwWsG2x5",
        "outputId": "9b7614ae-b750-460a-8f68-995ea02a4253"
      },
      "execution_count": 6,
      "outputs": [
        {
          "output_type": "stream",
          "name": "stdout",
          "text": [
            "Ingresa una palabra apa\n",
            "La palabra apa es un palíndromo\n"
          ]
        }
      ]
    },
    {
      "cell_type": "markdown",
      "source": [
        "#Ejercicio 20"
      ],
      "metadata": {
        "id": "BauQkFrWJOAz"
      }
    },
    {
      "cell_type": "code",
      "source": [
        "n=str(input(\"Ingresa una número entero \"))\n",
        "if str(n) == str(n)[::-1]:\n",
        "  print(f\"El número {n} es un palíndromo\")\n",
        "else:\n",
        "  print(f\"El número {n} no es un palíndromo\")"
      ],
      "metadata": {
        "colab": {
          "base_uri": "https://localhost:8080/"
        },
        "id": "gJ4608lpJS2U",
        "outputId": "fe9ed018-8c6c-487f-e253-796331a9fda0"
      },
      "execution_count": 11,
      "outputs": [
        {
          "output_type": "stream",
          "name": "stdout",
          "text": [
            "Ingresa una número entero101\n",
            "El número 101 es un palíndromo\n"
          ]
        }
      ]
    }
  ]
}