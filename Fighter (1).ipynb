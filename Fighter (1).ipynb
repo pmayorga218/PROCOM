{
  "nbformat": 4,
  "nbformat_minor": 0,
  "metadata": {
    "colab": {
      "provenance": []
    },
    "kernelspec": {
      "name": "python3",
      "display_name": "Python 3"
    },
    "language_info": {
      "name": "python"
    }
  },
  "cells": [
    {
      "cell_type": "code",
      "execution_count": 12,
      "metadata": {
        "colab": {
          "base_uri": "https://localhost:8080/"
        },
        "id": "8opoNTiNxSkc",
        "outputId": "eeebe8a5-389c-4256-9652-52613e2af2c0"
      },
      "outputs": [
        {
          "output_type": "stream",
          "name": "stdout",
          "text": [
            "Ingresa la cantidad de alumnos en el curso 1 1\n",
            "Ingresa el nombre del alumno p\n",
            "Ingresa la nota del alumno (si no quieres agregar más ingresa un número negativo o mayor a 5)5\n",
            "Ingresa la nota del alumno (si no quieres agregar más ingresa un número negativo o mayor a 5)4\n",
            "Ingresa la nota del alumno (si no quieres agregar más ingresa un número negativo o mayor a 5)6\n",
            "{'p': [5, 4]}\n",
            "Ingresa la cantidad de alumnos en el curso 2 1\n",
            "Ingresa el nombre del alumno m\n",
            "Ingresa la nota del alumno (si no quieres agregar más ingresa un número negativo o mayor a 5)3\n",
            "Ingresa la nota del alumno (si no quieres agregar más ingresa un número negativo o mayor a 5)2\n",
            "Ingresa la nota del alumno (si no quieres agregar más ingresa un número negativo o mayor a 5)1\n",
            "Ingresa la nota del alumno (si no quieres agregar más ingresa un número negativo o mayor a 5)-1\n",
            "{'m': [3, 2, 1]}\n",
            "Ingresa la cantidad de alumnos en el curso 3 2\n",
            "Ingresa el nombre del alumno h\n",
            "Ingresa la nota del alumno (si no quieres agregar más ingresa un número negativo o mayor a 5)5\n",
            "Ingresa la nota del alumno (si no quieres agregar más ingresa un número negativo o mayor a 5)4\n",
            "Ingresa la nota del alumno (si no quieres agregar más ingresa un número negativo o mayor a 5)6\n",
            "Ingresa el nombre del alumno l\n",
            "Ingresa la nota del alumno (si no quieres agregar más ingresa un número negativo o mayor a 5)1\n",
            "Ingresa la nota del alumno (si no quieres agregar más ingresa un número negativo o mayor a 5)2\n",
            "Ingresa la nota del alumno (si no quieres agregar más ingresa un número negativo o mayor a 5)7\n",
            "{'h': [5, 4], 'l': [1, 2]}\n"
          ]
        }
      ],
      "source": [
        "#3 cursos,n estudiantes, n notas. Mejor estudiante del curso y mejor estudiante de los 3 cursos\n",
        "c1={ }\n",
        "a=int(input(\"Ingresa la cantidad de alumnos en el curso 1 \"))\n",
        "for i in range (a):\n",
        "  na=input(\"Ingresa el nombre del alumno \")\n",
        "  n1=[ ]\n",
        "  n=int(input(\"Ingresa la nota del alumno (si no quieres agregar más ingresa un número negativo o mayor a 5)\"))\n",
        "  while n > 0 and n <= 5:\n",
        "    n1.append(n)\n",
        "    n=int(input(\"Ingresa la nota del alumno (si no quieres agregar más ingresa un número negativo o mayor a 5)\"))\n",
        "  c1[na]=n1.copy( )\n",
        "  prom1=sum(n1)/float(len(n1))\n",
        "print(c1)\n",
        "c2={ }\n",
        "a=int(input(\"Ingresa la cantidad de alumnos en el curso 2 \"))\n",
        "for i in range (a):\n",
        "  na=input(\"Ingresa el nombre del alumno \")\n",
        "  n2=[ ]\n",
        "  n=int(input(\"Ingresa la nota del alumno (si no quieres agregar más ingresa un número negativo o mayor a 5)\"))\n",
        "  while n > 0 and n <= 5:\n",
        "    n2.append(n)\n",
        "    n=int(input(\"Ingresa la nota del alumno (si no quieres agregar más ingresa un número negativo o mayor a 5)\"))\n",
        "  c2[na]=n2.copy( )\n",
        "  prom1=sum(n2)/float(len(n2))\n",
        "print(c2)\n",
        "c3={ }\n",
        "a=int(input(\"Ingresa la cantidad de alumnos en el curso 3 \"))\n",
        "for i in range (a):\n",
        "  na=input(\"Ingresa el nombre del alumno \")\n",
        "  n3=[ ]\n",
        "  n=int(input(\"Ingresa la nota del alumno (si no quieres agregar más ingresa un número negativo o mayor a 5)\"))\n",
        "  while n > 0 and n <= 5:\n",
        "    n3.append(n)\n",
        "    n=int(input(\"Ingresa la nota del alumno (si no quieres agregar más ingresa un número negativo o mayor a 5)\"))\n",
        "  c3[na]=n3.copy( )\n",
        "  prom1=sum(n3)/float(len(n3))\n",
        "print(c3)\n",
        "\n",
        " "
      ]
    },
    {
      "cell_type": "code",
      "source": [],
      "metadata": {
        "id": "oa0s507P5kxv"
      },
      "execution_count": null,
      "outputs": []
    }
  ]
}