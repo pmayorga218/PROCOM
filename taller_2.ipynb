{
  "nbformat": 4,
  "nbformat_minor": 0,
  "metadata": {
    "colab": {
      "name": "taller_2.ipynb",
      "provenance": [],
      "toc_visible": true,
      "collapsed_sections": []
    },
    "kernelspec": {
      "name": "python3",
      "display_name": "Python 3"
    },
    "language_info": {
      "name": "python"
    }
  },
  "cells": [
    {
      "cell_type": "markdown",
      "source": [
        "#Paula Andrea Mayorga Gaona, Manuel Delgado Mantilla "
      ],
      "metadata": {
        "id": "IbdFYxbwjiaV"
      }
    },
    {
      "cell_type": "markdown",
      "source": [
        "# 5 EJERCICIO\n"
      ],
      "metadata": {
        "id": "qSj8JlcDqooL"
      }
    },
    {
      "cell_type": "markdown",
      "source": [
        "\n",
        "# 1 EJERCICIO\n"
      ],
      "metadata": {
        "id": "2V8Ghv980HAY"
      }
    },
    {
      "cell_type": "code",
      "source": [
        "n=int(input(\"Ingresa un número para saber si es primo o no\"))\n",
        "def primo(n):\n",
        "  for i in range(2,n):\n",
        "    if n%i==0:\n",
        "      print(\"el número no es primo\")\n",
        "      return False\n",
        "  print(\"El número es primo\")\n",
        "  return True "
      ],
      "metadata": {
        "colab": {
          "base_uri": "https://localhost:8080/"
        },
        "id": "vy8zimwM0NX_",
        "outputId": "ba222da7-14f3-4b31-bb53-01884bcaddda"
      },
      "execution_count": null,
      "outputs": [
        {
          "name": "stdout",
          "output_type": "stream",
          "text": [
            "Ingresa un número para saber si es primo o no7\n"
          ]
        }
      ]
    },
    {
      "cell_type": "markdown",
      "source": [
        ""
      ],
      "metadata": {
        "id": "RT2rH3vc0Jiv"
      }
    },
    {
      "cell_type": "code",
      "source": [
        "\n",
        "for i in range (0,4,1):\n",
        "  \n",
        "  n = int(input(\"Enter a number\"))\n",
        "  major=n\n",
        "  if n>major:\n",
        "    n==major\n",
        "print(\"The number major is \",major)\n"
      ],
      "metadata": {
        "colab": {
          "base_uri": "https://localhost:8080/"
        },
        "id": "r9h_2k6tquzC",
        "outputId": "16b4b527-a6ba-42ed-bdbd-cb33253f64d3"
      },
      "execution_count": null,
      "outputs": [
        {
          "output_type": "stream",
          "name": "stdout",
          "text": [
            "Enter a number4\n",
            "Enter a number3\n",
            "Enter a number5\n",
            "Enter a number1\n",
            "The number major is  1\n"
          ]
        }
      ]
    },
    {
      "cell_type": "markdown",
      "source": [
        "6 ejercicio"
      ],
      "metadata": {
        "id": "cIeFYR24zBJj"
      }
    },
    {
      "cell_type": "code",
      "source": [
        "n=int(input(\"Enter a number: \"))\n",
        "for i in range(1,11):\n",
        "    print(n,\"*\",i,\"=\",n*i)"
      ],
      "metadata": {
        "colab": {
          "base_uri": "https://localhost:8080/"
        },
        "id": "FyFgCtHozEpv",
        "outputId": "7b7a2436-043b-46f8-f6bb-d3b5e65ba0db"
      },
      "execution_count": null,
      "outputs": [
        {
          "output_type": "stream",
          "name": "stdout",
          "text": [
            "Enter a number: 5\n",
            "5 * 1 = 5\n",
            "5 * 2 = 10\n",
            "5 * 3 = 15\n",
            "5 * 4 = 20\n",
            "5 * 5 = 25\n",
            "5 * 6 = 30\n",
            "5 * 7 = 35\n",
            "5 * 8 = 40\n",
            "5 * 9 = 45\n",
            "5 * 10 = 50\n"
          ]
        }
      ]
    }
  ]
}